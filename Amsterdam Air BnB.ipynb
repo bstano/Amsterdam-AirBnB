{
 "cells": [
  {
   "cell_type": "markdown",
   "metadata": {},
   "source": [
    "Air BnB Amsterdam Listings\n",
    "\n",
    "## What's the most expensive listing? What else can you tell me about the listing?\n",
    "\n",
    "For Amsterdam listings CSV adapted to a SQL table with the types adjusted accordingly, the most expensive nightly property is '★Central Canal House - Whole House★', 'AmsterdamStag Stay', and 'Charming Studio in City Centre'. "
   ]
  },
  {
   "cell_type": "raw",
   "metadata": {},
   "source": [
    "\n",
    "SELECT\n",
    "  name,\n",
    "  price,\n",
    "  minimum_nights\n",
    "FROM\n",
    "  listings\n",
    "ORDER BY price DESC"
   ]
  },
  {
   "cell_type": "markdown",
   "metadata": {},
   "source": [
    "## What neighborhoods seem to be the most popular?\n",
    "\n",
    "The top 5 most popualr neighborhoods are Kadoelen, Banne Buiksloot, Oosterparkbuurt, Museumkwartier, and Oostelijke Eilanden en Kadijken."
   ]
  },
  {
   "cell_type": "raw",
   "metadata": {},
   "source": [
    "SELECT\n",
    "    neighbourhood,\n",
    "    city,\n",
    "    AVG (review_scores_rating) avg_review,\n",
    "    ROUND (AVG (review_scores_value)) avg_value,\n",
    "    SUM (reviews_per_month) monthly_reviews,\n",
    "    COUNT(*) amt_of_properties,\n",
    "FROM\n",
    "    listings\n",
    "GROUP BY 1\n",
    "ORDER BY 3 DESC"
   ]
  },
  {
   "cell_type": "markdown",
   "metadata": {},
   "source": [
    "## What time of year is the cheapest time to go to your city? What about the busiest?\n",
    "\n",
    "Unfortunately, there seems to be some sort of problem with the Air Bnb data, and we cannot obtain any calendar info. We can instead look at the dates of the latest reviews of each property. We can see that the most common are November, October, and No review. So November or October is probably the busiest time. While Feburary, March, and January are the least common latest review months. Being that they seem to be the least busy, they are probably the cheapest."
   ]
  },
  {
   "cell_type": "raw",
   "metadata": {},
   "source": [
    "SELECT\n",
    "  STRFTIME('%m', DATE(last_review)) last_review,\n",
    "  COUNT(*) occurences\n",
    "FROM\n",
    "  listings\n",
    "GROUP BY 1\n",
    "ORDER BY occurences DESC"
   ]
  }
 ],
 "metadata": {
  "kernelspec": {
   "display_name": "Python 2",
   "language": "python",
   "name": "python2"
  },
  "language_info": {
   "codemirror_mode": {
    "name": "ipython",
    "version": 2
   },
   "file_extension": ".py",
   "mimetype": "text/x-python",
   "name": "python",
   "nbconvert_exporter": "python",
   "pygments_lexer": "ipython2",
   "version": "2.7.15rc1"
  }
 },
 "nbformat": 4,
 "nbformat_minor": 2
}
